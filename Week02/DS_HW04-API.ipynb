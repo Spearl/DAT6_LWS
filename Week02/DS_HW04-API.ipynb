{
 "metadata": {
  "name": "",
  "signature": "sha256:5319bc6845a3b5549c2c03c6d97adf3ec0c998ae1fb78b4be316579ceee764a0"
 },
 "nbformat": 3,
 "nbformat_minor": 0,
 "worksheets": [
  {
   "cells": [
    {
     "cell_type": "markdown",
     "metadata": {},
     "source": [
      "Individually:\n",
      "------------\n",
      "Find tweets where `'retweet_count': {\"$gt\": 0}`.  \n",
      "What is their `count`?  \n",
      "Is there anything about them that stands out as retweetable?"
     ]
    },
    {
     "cell_type": "code",
     "collapsed": false,
     "input": [
      "# other modules:\n",
      "import matplotlib.pyplot as plt\n",
      "import pandas as pd\n",
      "\n",
      "from pymongo import MongoClient\n",
      "%matplotlib inline"
     ],
     "language": "python",
     "metadata": {},
     "outputs": [],
     "prompt_number": 1
    },
    {
     "cell_type": "code",
     "collapsed": false,
     "input": [
      "c = MongoClient()\n",
      "db = c.twitter\n",
      "retweeted = [tweet for tweet in db.tweets.find({\"retweet_count\": {\"$gt\": 0}})]\n",
      "retweeted_df = pd.DataFrame(retweeted)"
     ],
     "language": "python",
     "metadata": {},
     "outputs": [],
     "prompt_number": 2
    },
    {
     "cell_type": "code",
     "collapsed": false,
     "input": [
      "retweeted_df.retweet_count.hist()"
     ],
     "language": "python",
     "metadata": {},
     "outputs": [
      {
       "metadata": {},
       "output_type": "pyout",
       "prompt_number": 3,
       "text": [
        "<matplotlib.axes.AxesSubplot at 0x29f5190>"
       ]
      },
      {
       "metadata": {},
       "output_type": "display_data",
       "png": "[encoded data removed]",
       "text": [
        "<matplotlib.figure.Figure at 0x4d1a550>"
       ]
      }
     ],
     "prompt_number": 3
    },
    {
     "cell_type": "code",
     "collapsed": false,
     "input": [
      "{tweet['text'] for tweet in retweeted if tweet['retweet_count'] > 1000}"
     ],
     "language": "python",
     "metadata": {},
     "outputs": [
      {
       "metadata": {},
       "output_type": "pyout",
       "prompt_number": 4,
       "text": [
        "{u'RT @5SOS: were on kiss957! send us a q #5SOSKISS957 :) http://t.co/Qxd1f5iijS',\n",
        " u'RT @ArianaGrande: #4DaysUntilProblem \\U0001f4fb\\U0001f4fb\\U0001f4fb\\U0001f469\\U0001f4ad\\U0001f478\\U0001f30c @IGGYAZALEA http://t.co/LveLK6RDkD'}"
       ]
      }
     ],
     "prompt_number": 4
    },
    {
     "cell_type": "markdown",
     "metadata": {},
     "source": [
      "Iggy Azalea: so hot right now"
     ]
    }
   ],
   "metadata": {}
  }
 ]
}