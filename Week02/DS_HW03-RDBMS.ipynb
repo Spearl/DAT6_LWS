{
 "metadata": {
  "celltoolbar": "Slideshow",
  "name": "",
  "signature": "sha256:98fc6dbf8a78904eba691a7e5b652ef404f3bddad498b345d081bf0603d8d264"
 },
 "nbformat": 3,
 "nbformat_minor": 0,
 "worksheets": [
  {
   "cells": [
    {
     "cell_type": "markdown",
     "metadata": {
      "slideshow": {
       "slide_type": "fragment"
      }
     },
     "source": [
      "HW03-RDBMS\n",
      "------------\n",
      "Plot the `median` `subject` `len`gth over time (using the same weekly grouping object above)"
     ]
    },
    {
     "cell_type": "code",
     "collapsed": false,
     "input": [
      "import pandas as pd\n",
      "import sqlite3\n",
      "from pandas.io import sql\n",
      "conn = sqlite3.connect('enron.db')"
     ],
     "language": "python",
     "metadata": {},
     "outputs": [],
     "prompt_number": 1
    },
    {
     "cell_type": "code",
     "collapsed": false,
     "input": [
      "MessageBase = sql.frame_query(\"\"\"SELECT mid, unix_time, subject, from_eid \n",
      "                FROM MessageBase\"\"\", conn, \"mid\")\n",
      "MessageBase.head()"
     ],
     "language": "python",
     "metadata": {},
     "outputs": [
      {
       "html": [
        "<div style=\"max-height:1000px;max-width:1500px;overflow:auto;\">\n",
        "<table border=\"1\" class=\"dataframe\">\n",
        "  <thead>\n",
        "    <tr style=\"text-align: right;\">\n",
        "      <th></th>\n",
        "      <th>unix_time</th>\n",
        "      <th>subject</th>\n",
        "      <th>from_eid</th>\n",
        "    </tr>\n",
        "    <tr>\n",
        "      <th>mid</th>\n",
        "      <th></th>\n",
        "      <th></th>\n",
        "      <th></th>\n",
        "    </tr>\n",
        "  </thead>\n",
        "  <tbody>\n",
        "    <tr>\n",
        "      <th>1</th>\n",
        "      <td> 910930020</td>\n",
        "      <td>            Cd$ CME letter</td>\n",
        "      <td> 138</td>\n",
        "    </tr>\n",
        "    <tr>\n",
        "      <th>2</th>\n",
        "      <td> 911459940</td>\n",
        "      <td>           Indemnification</td>\n",
        "      <td> 138</td>\n",
        "    </tr>\n",
        "    <tr>\n",
        "      <th>3</th>\n",
        "      <td> 911463840</td>\n",
        "      <td>       Re: Indemnification</td>\n",
        "      <td> 138</td>\n",
        "    </tr>\n",
        "    <tr>\n",
        "      <th>4</th>\n",
        "      <td> 911874180</td>\n",
        "      <td>    Re: Coral Energy, L.P.</td>\n",
        "      <td> 138</td>\n",
        "    </tr>\n",
        "    <tr>\n",
        "      <th>5</th>\n",
        "      <td> 912396120</td>\n",
        "      <td> Bankruptcy Code revisions</td>\n",
        "      <td> 138</td>\n",
        "    </tr>\n",
        "  </tbody>\n",
        "</table>\n",
        "<p>5 rows \u00d7 3 columns</p>\n",
        "</div>"
       ],
       "metadata": {},
       "output_type": "pyout",
       "prompt_number": 2,
       "text": [
        "     unix_time                    subject  from_eid\n",
        "mid                                                \n",
        "1    910930020             Cd$ CME letter       138\n",
        "2    911459940            Indemnification       138\n",
        "3    911463840        Re: Indemnification       138\n",
        "4    911874180     Re: Coral Energy, L.P.       138\n",
        "5    912396120  Bankruptcy Code revisions       138\n",
        "\n",
        "[5 rows x 3 columns]"
       ]
      }
     ],
     "prompt_number": 2
    },
    {
     "cell_type": "code",
     "collapsed": false,
     "input": [
      "%matplotlib inline\n",
      "subject_lengths = sql.frame_query(\"\"\"SELECT mid, datetime(unix_time, 'unixepoch') AS time_sent,\n",
      "                                   length(subject) AS sub_len FROM MessageBase\"\"\",\n",
      "                                    conn, \"mid\")\n",
      "weeks = subject_lengths.time_sent.map(lambda dt: pd.Period(dt, freq='W'))\n",
      "subject_lengths.groupby(weeks).sub_len.median().plot()"
     ],
     "language": "python",
     "metadata": {},
     "outputs": [
      {
       "metadata": {},
       "output_type": "pyout",
       "prompt_number": 4,
       "text": [
        "<matplotlib.axes.AxesSubplot at 0x4e7ec90>"
       ]
      },
      {
       "metadata": {},
       "output_type": "display_data",
       "png": "[encoded data removed]",
       "text": [
        "<matplotlib.figure.Figure at 0x1741ad0>"
       ]
      }
     ],
     "prompt_number": 4
    },
    {
     "cell_type": "markdown",
     "metadata": {
      "slideshow": {
       "slide_type": "skip"
      }
     },
     "source": [
      "Further exercises: Try to find your own discoveries! (e.g. is there anything interesting you could say about the subjects of the emails. What about who sent the first ones and who sent the last ones? What about the recipients themselves? (hint: `to_eid` is a foreign key to `eid`)"
     ]
    },
    {
     "cell_type": "markdown",
     "metadata": {
      "slideshow": {
       "slide_type": "skip"
      }
     },
     "source": [
      "See [Pandas for SQL Developers](http://nbviewer.ipython.org/urls/bitbucket.org/hrojas/learn-pandas/raw/master/lessons/Pandas%20for%20SQL%20Developers.ipynb) for more examples about how Pandas and SQL compare."
     ]
    },
    {
     "cell_type": "code",
     "collapsed": false,
     "input": [
      "MessageBase.subject"
     ],
     "language": "python",
     "metadata": {},
     "outputs": [
      {
       "metadata": {},
       "output_type": "pyout",
       "prompt_number": 40,
       "text": [
        "mid\n",
        "1                          Cd$ CME letter\n",
        "2                         Indemnification\n",
        "3                     Re: Indemnification\n",
        "4                  Re: Coral Energy, L.P.\n",
        "5               Bankruptcy Code revisions\n",
        "6                Re: Position Description\n",
        "7                                    Koch\n",
        "8                  Re: Time to Celebrate!\n",
        "9                    Re: Vacation Request\n",
        "10                       Re: Last Message\n",
        "11       Trading Documentation - Reminder\n",
        "12     Cancellation of Swap Group Meeting\n",
        "13                                   HL&P\n",
        "14               Re: Waste Managment Inc.\n",
        "15              Indemnification Agreement\n",
        "...\n",
        "21621                                         RE: Activity\n",
        "21622                                         RE: Activity\n",
        "21623                               Master Termination Log\n",
        "21624                               Master Termination Log\n",
        "21625                               Master Termination Log\n",
        "21626                               Information Tools Memo\n",
        "21627    RE: Nation Fuel Gas Supply Corporation  ---  E...\n",
        "21628     Sorry for the blank email...here's the real deal\n",
        "21629                                           Re: Update\n",
        "21630     Updated: Meeting regarding transport and storage\n",
        "21631                                            NNG Deals\n",
        "21632                                              Job Ops\n",
        "21633                                          RE: Job Ops\n",
        "21634                          Netting Agreement Materials\n",
        "21635                               Master Termination Log\n",
        "Name: subject, Length: 21635, dtype: object"
       ]
      }
     ],
     "prompt_number": 40
    }
   ],
   "metadata": {}
  }
 ]
}