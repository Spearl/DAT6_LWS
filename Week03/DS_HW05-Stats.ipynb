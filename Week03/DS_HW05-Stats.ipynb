{
 "metadata": {
  "name": "",
  "signature": "sha256:1c576aa6151bdd053247ee664dbfe001bcb16e80c75e8a2479ae37806dd52028"
 },
 "nbformat": 3,
 "nbformat_minor": 0,
 "worksheets": [
  {
   "cells": [
    {
     "cell_type": "markdown",
     "metadata": {},
     "source": [
      "# Stats"
     ]
    },
    {
     "cell_type": "markdown",
     "metadata": {},
     "source": [
      "Homework\n",
      "========\n",
      "\n",
      "Use `enron.db` from last week.\n",
      "\n",
      "1. Create a boxplot of the message recipient count (`MAX(rno)`), splitting the data based on the `seniority` of the sender.\n",
      "\n",
      "2. Compute the sample mean and standard deviation in the two groups.\n",
      "\n",
      "3. Create a histogram of the recipient count within each group.\n",
      "\n",
      "4. Compute a 90% confidence interval for the difference in recipient count between the two groups. What is a problem with this? How might you fix it?\n",
      "\n",
      "5. At level $\\alpha=5\\%$, test the null hypothesis that the average recipient count does not differ between the two groups. What assumptions are you making? What can you conclude?"
     ]
    },
    {
     "cell_type": "code",
     "collapsed": false,
     "input": [
      "import pandas as pd\n",
      "import sqlite3\n",
      "from pandas.io import sql\n",
      "import statsmodels.api as sm\n",
      "conn = sqlite3.connect('enron.db')\n",
      "%matplotlib inline"
     ],
     "language": "python",
     "metadata": {},
     "outputs": [],
     "prompt_number": 2
    },
    {
     "cell_type": "code",
     "collapsed": false,
     "input": [
      "recipient_counts_df = sql.frame_query(\"\"\"SELECT mid, seniority, MAX(rno) AS recipient_count\n",
      "                   FROM EmployeeBase\n",
      "                   JOIN MessageBase ON eid = from_eid\n",
      "                   JOIN RecipientBase USING(mid)\n",
      "                   GROUP BY mid ORDER BY recipient_count DESC\n",
      "                   \"\"\", conn)\n",
      "recipient_counts_df.head()"
     ],
     "language": "python",
     "metadata": {},
     "outputs": [
      {
       "html": [
        "<div style=\"max-height:1000px;max-width:1500px;overflow:auto;\">\n",
        "<table border=\"1\" class=\"dataframe\">\n",
        "  <thead>\n",
        "    <tr style=\"text-align: right;\">\n",
        "      <th></th>\n",
        "      <th>mid</th>\n",
        "      <th>seniority</th>\n",
        "      <th>recipient_count</th>\n",
        "    </tr>\n",
        "  </thead>\n",
        "  <tbody>\n",
        "    <tr>\n",
        "      <th>0</th>\n",
        "      <td> 12116</td>\n",
        "      <td> Senior</td>\n",
        "      <td> 57</td>\n",
        "    </tr>\n",
        "    <tr>\n",
        "      <th>1</th>\n",
        "      <td> 12151</td>\n",
        "      <td> Senior</td>\n",
        "      <td> 57</td>\n",
        "    </tr>\n",
        "    <tr>\n",
        "      <th>2</th>\n",
        "      <td> 12140</td>\n",
        "      <td> Senior</td>\n",
        "      <td> 55</td>\n",
        "    </tr>\n",
        "    <tr>\n",
        "      <th>3</th>\n",
        "      <td> 14404</td>\n",
        "      <td> Senior</td>\n",
        "      <td> 52</td>\n",
        "    </tr>\n",
        "    <tr>\n",
        "      <th>4</th>\n",
        "      <td> 16035</td>\n",
        "      <td> Senior</td>\n",
        "      <td> 49</td>\n",
        "    </tr>\n",
        "  </tbody>\n",
        "</table>\n",
        "<p>5 rows \u00d7 3 columns</p>\n",
        "</div>"
       ],
       "metadata": {},
       "output_type": "pyout",
       "prompt_number": 3,
       "text": [
        "     mid seniority  recipient_count\n",
        "0  12116    Senior               57\n",
        "1  12151    Senior               57\n",
        "2  12140    Senior               55\n",
        "3  14404    Senior               52\n",
        "4  16035    Senior               49\n",
        "\n",
        "[5 rows x 3 columns]"
       ]
      }
     ],
     "prompt_number": 3
    },
    {
     "cell_type": "code",
     "collapsed": false,
     "input": [
      "recipient_counts_df.boxplot(column='recipient_count', by='seniority')"
     ],
     "language": "python",
     "metadata": {},
     "outputs": [
      {
       "metadata": {},
       "output_type": "pyout",
       "prompt_number": 4,
       "text": [
        "<matplotlib.axes.AxesSubplot at 0x6274810>"
       ]
      },
      {
       "metadata": {},
       "output_type": "display_data",
       "png": "[encoded data removed]",
       "text": [
        "<matplotlib.figure.Figure at 0x5aabf50>"
       ]
      }
     ],
     "prompt_number": 4
    },
    {
     "cell_type": "code",
     "collapsed": false,
     "input": [
      "recipient_counts_df.groupby('seniority')['recipient_count'].mean()"
     ],
     "language": "python",
     "metadata": {},
     "outputs": [
      {
       "metadata": {},
       "output_type": "pyout",
       "prompt_number": 5,
       "text": [
        "seniority\n",
        "Junior       1.728795\n",
        "Senior       1.808023\n",
        "Name: recipient_count, dtype: float64"
       ]
      }
     ],
     "prompt_number": 5
    },
    {
     "cell_type": "code",
     "collapsed": false,
     "input": [
      "recipient_counts_df.groupby('seniority')['recipient_count'].std()"
     ],
     "language": "python",
     "metadata": {},
     "outputs": [
      {
       "metadata": {},
       "output_type": "pyout",
       "prompt_number": 6,
       "text": [
        "seniority\n",
        "Junior       1.533445\n",
        "Senior       2.095937\n",
        "Name: recipient_count, dtype: float64"
       ]
      }
     ],
     "prompt_number": 6
    },
    {
     "cell_type": "code",
     "collapsed": false,
     "input": [
      "recipient_counts_df.groupby('seniority')['recipient_count'].get_group('Junior').hist()"
     ],
     "language": "python",
     "metadata": {},
     "outputs": [
      {
       "metadata": {},
       "output_type": "pyout",
       "prompt_number": 12,
       "text": [
        "<matplotlib.axes.AxesSubplot at 0x67ee310>"
       ]
      },
      {
       "metadata": {},
       "output_type": "display_data",
       "png": "[encoded data removed]",
       "text": [
        "<matplotlib.figure.Figure at 0x682f150>"
       ]
      }
     ],
     "prompt_number": 12
    },
    {
     "cell_type": "code",
     "collapsed": false,
     "input": [
      "recipient_counts_df.groupby('seniority')['recipient_count'].get_group('Senior').hist()"
     ],
     "language": "python",
     "metadata": {},
     "outputs": [
      {
       "metadata": {},
       "output_type": "pyout",
       "prompt_number": 13,
       "text": [
        "<matplotlib.axes.AxesSubplot at 0x6876c90>"
       ]
      },
      {
       "metadata": {},
       "output_type": "display_data",
       "png": "[encoded data removed]",
       "text": [
        "<matplotlib.figure.Figure at 0x682a3d0>"
       ]
      }
     ],
     "prompt_number": 13
    },
    {
     "cell_type": "code",
     "collapsed": false,
     "input": [
      "mod = sm.OLS.from_formula(\"recipient_count ~ seniority == 'Senior'\", recipient_counts_df)\n",
      "res = mod.fit()\n",
      "print res.summary(alpha = .1)"
     ],
     "language": "python",
     "metadata": {},
     "outputs": [
      {
       "output_type": "stream",
       "stream": "stdout",
       "text": [
        "                            OLS Regression Results                            \n",
        "==============================================================================\n",
        "Dep. Variable:        recipient_count   R-squared:                       0.000\n",
        "Model:                            OLS   Adj. R-squared:                  0.000\n",
        "Method:                 Least Squares   F-statistic:                     9.415\n",
        "Date:                Sun, 25 May 2014   Prob (F-statistic):            0.00216\n",
        "Time:                        17:12:11   Log-Likelihood:                -44327.\n",
        "No. Observations:               21635   AIC:                         8.866e+04\n",
        "Df Residuals:                   21633   BIC:                         8.867e+04\n",
        "Df Model:                           1                                         \n",
        "=================================================================================================\n",
        "                                    coef    std err          t      P>|t|      [90.0% Conf. Int.]\n",
        "-------------------------------------------------------------------------------------------------\n",
        "Intercept                         1.7288      0.020     88.298      0.000         1.697     1.761\n",
        "seniority == 'Senior'[T.True]     0.0792      0.026      3.068      0.002         0.037     0.122\n",
        "==============================================================================\n",
        "Omnibus:                    30503.915   Durbin-Watson:                   0.009\n",
        "Prob(Omnibus):                  0.000   Jarque-Bera (JB):         21990988.515\n",
        "Skew:                           7.994   Prob(JB):                         0.00\n",
        "Kurtosis:                     158.368   Cond. No.                         2.83\n",
        "==============================================================================\n"
       ]
      }
     ],
     "prompt_number": 14
    },
    {
     "cell_type": "markdown",
     "metadata": {},
     "source": [
      "Confidence interval is [0.037, 0.122]. The two data sets are similar except for their extream outliers. It might be better to compare the sets filtered of all messages below a threshold deemed high (say 3 recipients)"
     ]
    },
    {
     "cell_type": "markdown",
     "metadata": {},
     "source": [
      "At level $\\alpha=5\\%$, I reject the null hypothesis that the average recipient count does not differ between the two groups since we have a p value < 0.05. This assumtion here is that all emails are independent which is not true. For instance junior employee could be hitting reply-all to senior messages. However I believe it is safe to conclude that the average Senior message has more recipients than Junior messages."
     ]
    }
   ],
   "metadata": {}
  }
 ]
}