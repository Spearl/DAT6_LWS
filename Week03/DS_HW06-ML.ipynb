{
 "metadata": {
  "name": "",
  "signature": "sha256:f94c245db27aa2971b2d0986235fbd57772701b555b57608bdeb642acfc8e775"
 },
 "nbformat": 3,
 "nbformat_minor": 0,
 "worksheets": [
  {
   "cells": [
    {
     "cell_type": "markdown",
     "metadata": {},
     "source": [
      "Homework\n",
      "========"
     ]
    },
    {
     "cell_type": "markdown",
     "metadata": {},
     "source": [
      "Level 1\n",
      "--------\n",
      "\n",
      "Use `enron.db` from last week.\n",
      "\n",
      "1. Select a `DataFrame` containing the recipient count (as before) and the `department` of the sender for each message.\n",
      "\n",
      "2. Create a histogram of the recipient count.\n",
      "\n",
      "3. Create a new column based on the `log` of the recipient count.\n",
      "\n",
      "4. Create a histogram of that log.\n",
      "\n",
      "6. Create a boxplot of the log, splitting the data based on the `department` of the sender.\n",
      "\n",
      "7. Compute the sample mean and standard deviation of the log in the three groups.\n",
      "\n",
      "8. Compute a 95% confidence interval for the difference in recipient count between the three groups. \n",
      "\n",
      "5. At level $\\alpha=5\\%$, test the null hypothesis that the average recipient count does not differ between the three groups. What assumptions are you making? What can you conclude?"
     ]
    },
    {
     "cell_type": "markdown",
     "metadata": {},
     "source": [
      "Level 2\n",
      "-------\n",
      "A criminologist studying the relationship between income level and assults in U.S. cities (among other things) collected the following data for 2215 communities. The dataset can be found in the [UCI machine learning site](http://archive.ics.uci.edu/ml/datasets/Communities+and+Crime+Unnormalized).\n",
      "\n",
      "We are interested in the per capita assult rate and its relation to median income."
     ]
    },
    {
     "cell_type": "code",
     "collapsed": false,
     "input": [
      "crime = pd.read_csv(\"http://archive.ics.uci.edu/ml/machine-learning-databases/00211/CommViolPredUnnormalizedData.txt\", header = None, na_values  = '?',\n",
      "                    names = ['communityname', 'state', 'countyCode', 'communityCode', 'fold', 'population', 'householdsize', 'racepctblack', 'racePctWhite', 'racePctAsian', 'racePctHisp', 'agePct12t21', 'agePct12t29', 'agePct16t24', 'agePct65up', 'numbUrban', 'pctUrban', 'medIncome', 'pctWWage', 'pctWFarmSelf', 'pctWInvInc', 'pctWSocSec', 'pctWPubAsst', 'pctWRetire', 'medFamInc', 'perCapInc', 'whitePerCap', 'blackPerCap', 'indianPerCap', 'AsianPerCap', 'OtherPerCap', 'HispPerCap', 'NumUnderPov', 'PctPopUnderPov', 'PctLess9thGrade', 'PctNotHSGrad', 'PctBSorMore', 'PctUnemployed', 'PctEmploy', 'PctEmplManu', 'PctEmplProfServ', 'PctOccupManu', 'PctOccupMgmtProf', 'MalePctDivorce', 'MalePctNevMarr', 'FemalePctDiv', 'TotalPctDiv', 'PersPerFam', 'PctFam2Par', 'PctKids2Par', 'PctYoungKids2Par', 'PctTeen2Par', 'PctWorkMomYoungKids', 'PctWorkMom', 'NumKidsBornNeverMar', 'PctKidsBornNeverMar', 'NumImmig', 'PctImmigRecent', 'PctImmigRec5', 'PctImmigRec8', 'PctImmigRec10', 'PctRecentImmig', 'PctRecImmig5', 'PctRecImmig8', 'PctRecImmig10', 'PctSpeakEnglOnly', 'PctNotSpeakEnglWell', 'PctLargHouseFam', 'PctLargHouseOccup', 'PersPerOccupHous', 'PersPerOwnOccHous', 'PersPerRentOccHous', 'PctPersOwnOccup', 'PctPersDenseHous', 'PctHousLess3BR', 'MedNumBR', 'HousVacant', 'PctHousOccup', 'PctHousOwnOcc', 'PctVacantBoarded', 'PctVacMore6Mos', 'MedYrHousBuilt', 'PctHousNoPhone', 'PctWOFullPlumb', 'OwnOccLowQuart', 'OwnOccMedVal', 'OwnOccHiQuart', 'OwnOccQrange', 'RentLowQ', 'RentMedian', 'RentHighQ', 'RentQrange', 'MedRent', 'MedRentPctHousInc', 'MedOwnCostPctInc', 'MedOwnCostPctIncNoMtg', 'NumInShelters', 'NumStreet', 'PctForeignBorn', 'PctBornSameState', 'PctSameHouse85', 'PctSameCity85', 'PctSameState85', 'LemasSwornFT', 'LemasSwFTPerPop', 'LemasSwFTFieldOps', 'LemasSwFTFieldPerPop', 'LemasTotalReq', 'LemasTotReqPerPop', 'PolicReqPerOffic', 'PolicPerPop', 'RacialMatchCommPol', 'PctPolicWhite', 'PctPolicBlack', 'PctPolicHisp', 'PctPolicAsian', 'PctPolicMinor', 'OfficAssgnDrugUnits', 'NumKindsDrugsSeiz', 'PolicAveOTWorked', 'LandArea', 'PopDens', 'PctUsePubTrans', 'PolicCars', 'PolicOperBudg', 'LemasPctPolicOnPatr', 'LemasGangUnitDeploy', 'LemasPctOfficDrugUn', 'PolicBudgPerPop', 'murders', 'murdPerPop', 'rapes', 'rapesPerPop', 'robberies', 'robbbPerPop', 'assaults', 'assaultPerPop', 'burglaries', 'burglPerPop', 'larcenies', 'larcPerPop', 'autoTheft', 'autoTheftPerPop', 'arsons', 'arsonsPerPop', 'ViolentCrimesPerPop', 'nonViolPerPop'])"
     ],
     "language": "python",
     "metadata": {},
     "outputs": []
    },
    {
     "cell_type": "markdown",
     "metadata": {},
     "source": [
      "1. Fit a simple linear regression model to the data with `np.log(crime.assaults)` as the dependent variable and `np.log(crime.medIncome)` as the independent variable. Plot the estimated regression line.\n",
      "\n",
      "4. Test whether there is a linear relationship between `assaults` and `medIncome` at level $\\alpha=0.05$. State the null hypothesis, the alternative, the conclusion and the $p$-value.\n",
      "\n",
      "5. Give a 95% confidence interval for the slope of the regression line. Interpret your interval.\n",
      "\n",
      "6. Report the $R^2$ and the adjusted $R^2$ of the model, as well as an estimate of the variance of the errors in the model.\n",
      "\n",
      "7. Go to [archive.ics.uci.edu/ml/datasets/Communities+and+Crime+Unnormalized](http://archive.ics.uci.edu/ml/datasets/Communities+and+Crime+Unnormalized) and pick out a few other factors that might help you predict `assults`."
     ]
    },
    {
     "cell_type": "code",
     "collapsed": false,
     "input": [
      "import pandas as pd\n",
      "import sqlite3\n",
      "import numpy as np\n",
      "from pandas.io import sql\n",
      "import statsmodels.api as sm\n",
      "conn = sqlite3.connect('enron.db')\n",
      "%matplotlib inline"
     ],
     "language": "python",
     "metadata": {},
     "outputs": [],
     "prompt_number": 21
    },
    {
     "cell_type": "code",
     "collapsed": false,
     "input": [
      "recipient_counts_df = sql.frame_query(\"\"\"SELECT mid, department, MAX(rno) AS recipient_count\n",
      "                   FROM EmployeeBase\n",
      "                   JOIN MessageBase ON eid = from_eid\n",
      "                   JOIN RecipientBase USING(mid)\n",
      "                   GROUP BY mid ORDER BY recipient_count DESC\n",
      "                   \"\"\", conn)\n",
      "recipient_counts_df.head()"
     ],
     "language": "python",
     "metadata": {},
     "outputs": [
      {
       "html": [
        "<div style=\"max-height:1000px;max-width:1500px;overflow:auto;\">\n",
        "<table border=\"1\" class=\"dataframe\">\n",
        "  <thead>\n",
        "    <tr style=\"text-align: right;\">\n",
        "      <th></th>\n",
        "      <th>mid</th>\n",
        "      <th>department</th>\n",
        "      <th>recipient_count</th>\n",
        "    </tr>\n",
        "  </thead>\n",
        "  <tbody>\n",
        "    <tr>\n",
        "      <th>0</th>\n",
        "      <td> 12116</td>\n",
        "      <td> Other</td>\n",
        "      <td> 57</td>\n",
        "    </tr>\n",
        "    <tr>\n",
        "      <th>1</th>\n",
        "      <td> 12151</td>\n",
        "      <td> Other</td>\n",
        "      <td> 57</td>\n",
        "    </tr>\n",
        "    <tr>\n",
        "      <th>2</th>\n",
        "      <td> 12140</td>\n",
        "      <td> Other</td>\n",
        "      <td> 55</td>\n",
        "    </tr>\n",
        "    <tr>\n",
        "      <th>3</th>\n",
        "      <td> 14404</td>\n",
        "      <td> Other</td>\n",
        "      <td> 52</td>\n",
        "    </tr>\n",
        "    <tr>\n",
        "      <th>4</th>\n",
        "      <td> 16035</td>\n",
        "      <td> Other</td>\n",
        "      <td> 49</td>\n",
        "    </tr>\n",
        "  </tbody>\n",
        "</table>\n",
        "<p>5 rows \u00d7 3 columns</p>\n",
        "</div>"
       ],
       "metadata": {},
       "output_type": "pyout",
       "prompt_number": 5,
       "text": [
        "     mid department  recipient_count\n",
        "0  12116      Other               57\n",
        "1  12151      Other               57\n",
        "2  12140      Other               55\n",
        "3  14404      Other               52\n",
        "4  16035      Other               49\n",
        "\n",
        "[5 rows x 3 columns]"
       ]
      }
     ],
     "prompt_number": 5
    },
    {
     "cell_type": "code",
     "collapsed": false,
     "input": [
      "recipient_counts_df['recipient_count'].hist()"
     ],
     "language": "python",
     "metadata": {},
     "outputs": [
      {
       "metadata": {},
       "output_type": "pyout",
       "prompt_number": 11,
       "text": [
        "<matplotlib.axes.AxesSubplot at 0x4ec2510>"
       ]
      },
      {
       "metadata": {},
       "output_type": "display_data",
       "png": "[encoded data removed]",
       "text": [
        "<matplotlib.figure.Figure at 0x4ec26d0>"
       ]
      }
     ],
     "prompt_number": 11
    },
    {
     "cell_type": "code",
     "collapsed": false,
     "input": [
      "recipient_counts_df['log_recipient_count'] = recipient_counts_df['recipient_count'].map(lambda x: np.log10(x))\n",
      "recipient_counts_df['log_recipient_count'].hist()"
     ],
     "language": "python",
     "metadata": {},
     "outputs": [
      {
       "metadata": {},
       "output_type": "pyout",
       "prompt_number": 14,
       "text": [
        "<matplotlib.axes.AxesSubplot at 0x4e8a950>"
       ]
      },
      {
       "metadata": {},
       "output_type": "display_data",
       "png": "[encoded data removed]",
       "text": [
        "<matplotlib.figure.Figure at 0x55b0750>"
       ]
      }
     ],
     "prompt_number": 14
    },
    {
     "cell_type": "code",
     "collapsed": false,
     "input": [
      "recipient_counts_df.boxplot(column='log_recipient_count', by='department')"
     ],
     "language": "python",
     "metadata": {},
     "outputs": [
      {
       "metadata": {},
       "output_type": "pyout",
       "prompt_number": 15,
       "text": [
        "<matplotlib.axes.AxesSubplot at 0x52b2e10>"
       ]
      },
      {
       "metadata": {},
       "output_type": "display_data",
       "png": "[encoded data removed]",
       "text": [
        "<matplotlib.figure.Figure at 0x51dec10>"
       ]
      }
     ],
     "prompt_number": 15
    },
    {
     "cell_type": "code",
     "collapsed": false,
     "input": [
      "recipient_counts_df.groupby('department')['log_recipient_count'].mean()"
     ],
     "language": "python",
     "metadata": {},
     "outputs": [
      {
       "metadata": {},
       "output_type": "pyout",
       "prompt_number": 17,
       "text": [
        "department\n",
        "Legal         0.174168\n",
        "Other         0.133437\n",
        "Trading       0.112712\n",
        "Name: log_recipient_count, dtype: float64"
       ]
      }
     ],
     "prompt_number": 17
    },
    {
     "cell_type": "code",
     "collapsed": false,
     "input": [
      "recipient_counts_df.groupby('department')['log_recipient_count'].std()"
     ],
     "language": "python",
     "metadata": {},
     "outputs": [
      {
       "metadata": {},
       "output_type": "pyout",
       "prompt_number": 19,
       "text": [
        "department\n",
        "Legal         0.257798\n",
        "Other         0.251091\n",
        "Trading       0.231374\n",
        "Name: log_recipient_count, dtype: float64"
       ]
      }
     ],
     "prompt_number": 19
    },
    {
     "cell_type": "code",
     "collapsed": false,
     "input": [
      "res = sm.OLS.from_formula(\"log_recipient_count ~ department != 'Other'\", recipient_counts_df).fit()\n",
      "print res.summary(alpha = .05)"
     ],
     "language": "python",
     "metadata": {},
     "outputs": [
      {
       "output_type": "stream",
       "stream": "stdout",
       "text": [
        "                             OLS Regression Results                            \n",
        "===============================================================================\n",
        "Dep. Variable:     log_recipient_count   R-squared:                       0.002\n",
        "Model:                             OLS   Adj. R-squared:                  0.002\n",
        "Method:                  Least Squares   F-statistic:                     37.43\n",
        "Date:                 Sun, 25 May 2014   Prob (F-statistic):           9.66e-10\n",
        "Time:                         19:57:33   Log-Likelihood:                -841.81\n",
        "No. Observations:                21635   AIC:                             1688.\n",
        "Df Residuals:                    21633   BIC:                             1704.\n",
        "Df Model:                            1                                         \n",
        "=================================================================================================\n",
        "                                    coef    std err          t      P>|t|      [95.0% Conf. Int.]\n",
        "-------------------------------------------------------------------------------------------------\n",
        "Intercept                         0.1334      0.003     43.904      0.000         0.127     0.139\n",
        "department != 'Other'[T.True]     0.0225      0.004      6.118      0.000         0.015     0.030\n",
        "==============================================================================\n",
        "Omnibus:                     6190.140   Durbin-Watson:                   0.003\n",
        "Prob(Omnibus):                  0.000   Jarque-Bera (JB):            14130.068\n",
        "Skew:                           1.652   Prob(JB):                         0.00\n",
        "Kurtosis:                       5.182   Cond. No.                         3.32\n",
        "==============================================================================\n"
       ]
      }
     ],
     "prompt_number": 30
    },
    {
     "cell_type": "markdown",
     "metadata": {},
     "source": [
      "We can safely reject the null hypothesis that the average recipient count does not differ between these three groups. We're assuming that these sets are independent and uncorrelated, which is most likely not true."
     ]
    }
   ],
   "metadata": {}
  }
 ]
}